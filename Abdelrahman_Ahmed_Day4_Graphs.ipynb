{
 "cells": [
  {
   "cell_type": "markdown",
   "metadata": {},
   "source": [
    "Draw Graph"
   ]
  },
  {
   "cell_type": "code",
   "execution_count": 1,
   "metadata": {},
   "outputs": [
    {
     "data": {
      "image/png": "[encoded data removed]",
      "text/plain": [
       "<Figure size 432x288 with 1 Axes>"
      ]
     },
     "metadata": {},
     "output_type": "display_data"
    }
   ],
   "source": [
    "import networkx as nx\n",
    "Gr = nx.Graph()\n",
    "nodes = [0, 1, 2, 3 , 4 , 5 , 6 , 7 ,8]\n",
    "edges= [(0, 1), (0,3), (0,8), (8,4), (4,3), (3, 2) , (1,7) , (7, 2) , (2,5) , (5,6)]\n",
    "Gr.add_node(len(nodes)-1)\n",
    "Gr.add_nodes_from(nodes)\n",
    "Gr.add_edges_from(edges)\n",
    "\n",
    "nx.draw(Gr, with_labels=True, font_weight='bold')"
   ]
  },
  {
   "cell_type": "markdown",
   "metadata": {},
   "source": [
    "DFS Algorithm"
   ]
  },
  {
   "cell_type": "code",
   "execution_count": null,
   "metadata": {},
   "outputs": [],
   "source": [
    "def Dfs_Algo(Graph_nodes , Visited_nodes , new_node):\n",
    "    if new_node not in Visited_nodes:\n",
    "        Visited_nodes.append(new_node)\n",
    "        print(new_node)\n",
    "        for i in Graph_nodes[new_node]:\n",
    "            Dfs_Algo(Graph_nodes , Visited_nodes , i)\n",
    "            \n",
    "            \n",
    "G = {\n",
    "    0 : [1 , 3 , 8],\n",
    "    1 : [0 , 7],\n",
    "    2 : [3 , 5 , 7],\n",
    "    3 : [0 , 2 ,4],\n",
    "    4 : [3 ,8],\n",
    "    5 : [2 , 6],\n",
    "    6 : [5],\n",
    "    7 : [1 , 2],\n",
    "    8 : [0,4]\n",
    "}\n",
    "visited = []            \n",
    "Dfs_Algo(G , visited , 0)            "
   ]
  },
  {
   "cell_type": "markdown",
   "metadata": {},
   "source": [
    "BFS Algorithm"
   ]
  },
  {
   "cell_type": "code",
   "execution_count": null,
   "metadata": {},
   "outputs": [],
   "source": [
    "def Bfs_Algo(Graph_nodes , Visited_nodes , new_node):\n",
    "    Queue = []\n",
    "    ret = []\n",
    "    Visited_nodes.append(new_node)\n",
    "    Queue.append(new_node)\n",
    "    while(Queue):\n",
    "        p_node = Queue.pop(0)\n",
    "        ret.append(p_node)\n",
    "        print(p_node)\n",
    "        for i in Graph_nodes[p_node]:\n",
    "            if i not in Visited_nodes:\n",
    "                Visited_nodes.append(i)\n",
    "                Queue.append(i)\n",
    "    return ret\n",
    "            \n",
    "            \n",
    "            \n",
    "G = {\n",
    "    0 : [1 , 3 , 8],\n",
    "    1 : [0 , 7],\n",
    "    2 : [3 , 5 , 7],\n",
    "    3 : [0 , 2 ,4],\n",
    "    4 : [3 ,8],\n",
    "    5 : [2 , 6],\n",
    "    6 : [5],\n",
    "    7 : [1 , 2],\n",
    "    8 : [0,4]\n",
    "}\n",
    "visited = []            \n",
    "Bfs_Algo(G , visited , 0)\n",
    "    "
   ]
  },
  {
   "cell_type": "markdown",
   "metadata": {},
   "source": [
    "Dijkstra Algorithm"
   ]
  },
  {
   "cell_type": "code",
   "execution_count": 4,
   "metadata": {},
   "outputs": [
    {
     "data": {
      "text/plain": [
       "{0: 0, 1: 8, 2: 9, 3: 9, 4: 20, 5: 15, 6: 13, 7: 13}"
      ]
     },
     "execution_count": 4,
     "metadata": {},
     "output_type": "execute_result"
    }
   ],
   "source": [
    "from queue import PriorityQueue\n",
    "import numpy as np\n",
    "def Make_Adjacancy_Matrix(Vertexies ):\n",
    "    vertex_matrix = np.full((Vertexies ,Vertexies) , -1)\n",
    "    return vertex_matrix\n",
    "def fill_matrix_edge_Directed(Matrix ,node1 , node2 , weigth):\n",
    "    Matrix[node1 , node2] = weigth\n",
    "    return Matrix\n",
    "def fill_matrix_edge_Un_Directed(Matrix ,node1 , node2 , weigth):\n",
    "    Matrix[node1 , node2] = weigth\n",
    "    Matrix[node2 , node1] = weigth\n",
    "    return Matrix    \n",
    "\n",
    "def dijkstra(graph, source_node):\n",
    "    visited = []\n",
    "    distance = {v:float('inf') for v in range(graph.shape[0])}\n",
    "    distance[source_node] = 0\n",
    "\n",
    "    pq = PriorityQueue()\n",
    "    pq.put((0, source_node))\n",
    "\n",
    "    while not pq.empty():\n",
    "        (node_distance, current_node) = pq.get()\n",
    "        visited.append(current_node)\n",
    "\n",
    "        for i in range(graph.shape[0]):\n",
    "            if graph[current_node][i] != -1:\n",
    "                distance_temp = graph[current_node][i]\n",
    "                if i not in visited:\n",
    "                    pervois_dis = distance[i]\n",
    "                    current_dis = distance[current_node] + distance_temp\n",
    "                    if current_dis < pervois_dis:\n",
    "                        pq.put((current_dis, i))\n",
    "                        distance[i] = current_dis\n",
    "    return distance\n",
    "\n",
    "\n",
    "\n",
    "G = Make_Adjacancy_Matrix(8)\n",
    "fill_matrix_edge_Un_Directed(G,0 , 2 , 9)\n",
    "fill_matrix_edge_Un_Directed(G,0 , 1 , 8)\n",
    "fill_matrix_edge_Un_Directed(G,1 , 3 , 1)\n",
    "fill_matrix_edge_Un_Directed(G,1 , 5 , 7)\n",
    "fill_matrix_edge_Un_Directed(G,1 , 6 , 9)\n",
    "fill_matrix_edge_Un_Directed(G,2 , 5 , 6)\n",
    "fill_matrix_edge_Un_Directed(G,2 , 6 , 4)\n",
    "fill_matrix_edge_Un_Directed(G,3 , 7 , 4)\n",
    "fill_matrix_edge_Un_Directed(G,4 , 6 , 7)\n",
    "fill_matrix_edge_Un_Directed(G,4 , 7 , 7)\n",
    "fill_matrix_edge_Un_Directed(G,5 , 7 , 2)\n",
    "fill_matrix_edge_Un_Directed(G,6 , 7 , 6)\n",
    "\n",
    "\n",
    "dijkstra(G, 0)"
   ]
  },
  {
   "cell_type": "code",
   "execution_count": null,
   "metadata": {},
   "outputs": [],
   "source": []
  },
  {
   "cell_type": "code",
   "execution_count": null,
   "metadata": {},
   "outputs": [],
   "source": []
  }
 ],
 "metadata": {
  "kernelspec": {
   "display_name": "Python 3",
   "language": "python",
   "name": "python3"
  },
  "language_info": {
   "codemirror_mode": {
    "name": "ipython",
    "version": 3
   },
   "file_extension": ".py",
   "mimetype": "text/x-python",
   "name": "python",
   "nbconvert_exporter": "python",
   "pygments_lexer": "ipython3",
   "version": "3.8.5"
  }
 },
 "nbformat": 4,
 "nbformat_minor": 4
}
